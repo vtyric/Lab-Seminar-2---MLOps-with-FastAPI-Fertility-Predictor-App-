{
 "cells": [
  {
   "cell_type": "code",
   "execution_count": 7,
   "metadata": {
    "collapsed": true
   },
   "outputs": [],
   "source": [
    "import pandas as pd\n",
    "from ucimlrepo import fetch_ucirepo\n",
    "from sklearn.model_selection import train_test_split\n",
    "from sklearn.linear_model import LogisticRegression\n",
    "from sklearn.metrics import classification_report, accuracy_score\n",
    "import pickle"
   ]
  },
  {
   "cell_type": "code",
   "execution_count": 8,
   "outputs": [
    {
     "name": "stdout",
     "output_type": "stream",
     "text": [
      "{'uci_id': 244, 'name': 'Fertility', 'repository_url': 'https://archive.ics.uci.edu/dataset/244/fertility', 'data_url': 'https://archive.ics.uci.edu/static/public/244/data.csv', 'abstract': '100 volunteers provide a semen sample analyzed according to the WHO 2010 criteria. Sperm concentration are related to socio-demographic data, environmental factors, health status, and life habits', 'area': 'Health and Medicine', 'tasks': ['Classification', 'Regression'], 'characteristics': ['Multivariate'], 'num_instances': 100, 'num_features': 9, 'feature_types': ['Real'], 'demographics': ['Age'], 'target_col': ['diagnosis'], 'index_col': None, 'has_missing_values': 'no', 'missing_values_symbol': None, 'year_of_dataset_creation': 2012, 'last_updated': 'Fri Mar 15 2024', 'dataset_doi': '10.24432/C5Z01Z', 'creators': ['David Gil', 'Jose Girela'], 'intro_paper': {'ID': 429, 'type': 'NATIVE', 'title': 'Predicting seminal quality with artificial intelligence methods', 'authors': 'David Gil, J. L. Girela, Joaquin De Juan, M. Jose Gomez-Torres, Magnus Johnsson', 'venue': 'Expert systems with applications', 'year': 2012, 'journal': None, 'DOI': None, 'URL': 'https://www.semanticscholar.org/paper/Predicting-seminal-quality-with-artificial-methods-Gil-Girela/92759c5ee08b9e6e7b17d1ccd48a7f8c02aba893', 'sha': None, 'corpus': None, 'arxiv': None, 'mag': None, 'acl': None, 'pmid': None, 'pmcid': None}, 'additional_info': {'summary': None, 'purpose': None, 'funded_by': None, 'instances_represent': None, 'recommended_data_splits': None, 'sensitive_data': None, 'preprocessing_description': None, 'variable_info': 'Season in which the analysis was performed. \\t1) winter, 2) spring, 3) Summer, 4) fall. \\t(-1, -0.33, 0.33, 1) \\r\\n\\r\\nAge at the time of analysis. \\t18-36 \\t(0, 1) \\r\\n\\r\\nChildish diseases (ie , chicken pox, measles, mumps, polio)\\t1) yes, 2) no. \\t(0, 1) \\r\\n\\r\\nAccident or serious trauma \\t1) yes, 2) no. \\t(0, 1) \\r\\n\\r\\nSurgical intervention \\t1) yes, 2) no. \\t(0, 1) \\r\\n\\r\\nHigh fevers in the last year \\t1) less than three months ago, 2) more than three months ago, 3) no. \\t(-1, 0, 1) \\r\\n\\r\\nFrequency of alcohol consumption \\t1) several times a day, 2) every day, 3) several times a week, 4) once a week, 5) hardly ever or never \\t(0, 1) \\r\\n\\r\\nSmoking habit \\t1) never, 2) occasional 3) daily. \\t(-1, 0, 1) \\r\\n\\r\\nNumber of hours spent sitting per day \\tene-16\\t(0, 1) \\r\\n\\r\\nOutput: Diagnosis\\tnormal (N), altered (O)\\t\\r\\n', 'citation': None}}\n",
      "                    name     role         type demographic description units  \\\n",
      "0                 season  Feature   Continuous        None        None  None   \n",
      "1                    age  Feature      Integer         Age        None  None   \n",
      "2         child_diseases  Feature       Binary        None        None  None   \n",
      "3               accident  Feature       Binary        None        None  None   \n",
      "4  surgical_intervention  Feature       Binary        None        None  None   \n",
      "5            high_fevers  Feature  Categorical        None        None  None   \n",
      "6                alcohol  Feature  Categorical        None        None  None   \n",
      "7                smoking  Feature  Categorical        None        None  None   \n",
      "8            hrs_sitting  Feature      Integer        None        None  None   \n",
      "9              diagnosis   Target       Binary        None        None  None   \n",
      "\n",
      "  missing_values  \n",
      "0             no  \n",
      "1             no  \n",
      "2             no  \n",
      "3             no  \n",
      "4             no  \n",
      "5             no  \n",
      "6             no  \n",
      "7             no  \n",
      "8             no  \n",
      "9             no  \n"
     ]
    }
   ],
   "source": [
    "# fetch dataset\n",
    "fertility = fetch_ucirepo(id=244)\n",
    "\n",
    "# data (as pandas dataframes)\n",
    "X = fertility.data.features\n",
    "y = fertility.data.targets\n",
    "\n",
    "# metadata\n",
    "print(fertility.metadata)\n",
    "\n",
    "# variable information\n",
    "print(fertility.variables)"
   ],
   "metadata": {
    "collapsed": false
   }
  },
  {
   "cell_type": "code",
   "execution_count": 9,
   "outputs": [
    {
     "name": "stdout",
     "output_type": "stream",
     "text": [
      "\n",
      "Форма данных после кодирования: (100, 9)\n"
     ]
    }
   ],
   "source": [
    "X_encoded = pd.get_dummies(X, drop_first=True)\n",
    "print(\"\\nФорма данных после кодирования:\", X_encoded.shape)"
   ],
   "metadata": {
    "collapsed": false
   }
  },
  {
   "cell_type": "code",
   "execution_count": 10,
   "outputs": [],
   "source": [
    "X_train, X_test, y_train, y_test = train_test_split(\n",
    "    X_encoded,\n",
    "    y,\n",
    "    test_size=0.2,\n",
    "    random_state=42\n",
    ")"
   ],
   "metadata": {
    "collapsed": false
   }
  },
  {
   "cell_type": "code",
   "execution_count": 11,
   "outputs": [
    {
     "name": "stderr",
     "output_type": "stream",
     "text": [
      "C:\\Users\\misha\\AppData\\Local\\pypoetry\\Cache\\virtualenvs\\seminar2-57OJkE1e-py3.12\\Lib\\site-packages\\sklearn\\utils\\validation.py:1408: DataConversionWarning: A column-vector y was passed when a 1d array was expected. Please change the shape of y to (n_samples, ), for example using ravel().\n",
      "  y = column_or_1d(y, warn=True)\n"
     ]
    }
   ],
   "source": [
    "X_encoded = pd.get_dummies(X, drop_first=True)\n",
    "\n",
    "expected_columns = X_encoded.columns\n",
    "with open(\"expected_columns.pkl\", \"wb\") as f:\n",
    "    pickle.dump(expected_columns, f)\n",
    "\n",
    "model = LogisticRegression(max_iter=1000)\n",
    "model.fit(X_train, y_train)\n",
    "\n",
    "with open(\"model.pkl\", \"wb\") as f:\n",
    "    pickle.dump(model, f)"
   ],
   "metadata": {
    "collapsed": false
   }
  },
  {
   "cell_type": "code",
   "execution_count": 12,
   "outputs": [
    {
     "name": "stdout",
     "output_type": "stream",
     "text": [
      "\n",
      "Accuracy: 0.9\n",
      "\n",
      "Classification Report:\n",
      "               precision    recall  f1-score   support\n",
      "\n",
      "           N       0.90      1.00      0.95        18\n",
      "           O       0.00      0.00      0.00         2\n",
      "\n",
      "    accuracy                           0.90        20\n",
      "   macro avg       0.45      0.50      0.47        20\n",
      "weighted avg       0.81      0.90      0.85        20\n",
      "\n"
     ]
    },
    {
     "name": "stderr",
     "output_type": "stream",
     "text": [
      "C:\\Users\\misha\\AppData\\Local\\pypoetry\\Cache\\virtualenvs\\seminar2-57OJkE1e-py3.12\\Lib\\site-packages\\sklearn\\metrics\\_classification.py:1565: UndefinedMetricWarning: Precision is ill-defined and being set to 0.0 in labels with no predicted samples. Use `zero_division` parameter to control this behavior.\n",
      "  _warn_prf(average, modifier, f\"{metric.capitalize()} is\", len(result))\n",
      "C:\\Users\\misha\\AppData\\Local\\pypoetry\\Cache\\virtualenvs\\seminar2-57OJkE1e-py3.12\\Lib\\site-packages\\sklearn\\metrics\\_classification.py:1565: UndefinedMetricWarning: Precision is ill-defined and being set to 0.0 in labels with no predicted samples. Use `zero_division` parameter to control this behavior.\n",
      "  _warn_prf(average, modifier, f\"{metric.capitalize()} is\", len(result))\n",
      "C:\\Users\\misha\\AppData\\Local\\pypoetry\\Cache\\virtualenvs\\seminar2-57OJkE1e-py3.12\\Lib\\site-packages\\sklearn\\metrics\\_classification.py:1565: UndefinedMetricWarning: Precision is ill-defined and being set to 0.0 in labels with no predicted samples. Use `zero_division` parameter to control this behavior.\n",
      "  _warn_prf(average, modifier, f\"{metric.capitalize()} is\", len(result))\n"
     ]
    }
   ],
   "source": [
    "y_pred = model.predict(X_test)\n",
    "accuracy = accuracy_score(y_test, y_pred)\n",
    "report = classification_report(y_test, y_pred)\n",
    "\n",
    "print(\"\\nAccuracy:\", accuracy)\n",
    "print(\"\\nClassification Report:\\n\", report)"
   ],
   "metadata": {
    "collapsed": false
   }
  },
  {
   "cell_type": "code",
   "execution_count": null,
   "outputs": [],
   "source": [],
   "metadata": {
    "collapsed": false
   }
  }
 ],
 "metadata": {
  "kernelspec": {
   "display_name": "Python 3",
   "language": "python",
   "name": "python3"
  },
  "language_info": {
   "codemirror_mode": {
    "name": "ipython",
    "version": 2
   },
   "file_extension": ".py",
   "mimetype": "text/x-python",
   "name": "python",
   "nbconvert_exporter": "python",
   "pygments_lexer": "ipython2",
   "version": "2.7.6"
  }
 },
 "nbformat": 4,
 "nbformat_minor": 0
}
